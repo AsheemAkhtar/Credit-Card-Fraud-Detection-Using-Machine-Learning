{
 "cells": [
  {
   "cell_type": "markdown",
   "id": "9940d6d4",
   "metadata": {},
   "source": [
    "## IMPORTING RELEVANT LIBRARIES"
   ]
  },
  {
   "cell_type": "code",
   "execution_count": 1,
   "id": "17540db2",
   "metadata": {},
   "outputs": [],
   "source": [
    "import numpy as np\n",
    "import pandas as pd\n",
    "from sklearn.model_selection import train_test_split\n",
    "from sklearn.linear_model import LogisticRegression\n",
    "from sklearn.metrics import accuracy_score"
   ]
  },
  {
   "cell_type": "markdown",
   "id": "01f73436",
   "metadata": {},
   "source": [
    "## Loading The Data"
   ]
  },
  {
   "cell_type": "code",
   "execution_count": 2,
   "id": "2d15937e",
   "metadata": {},
   "outputs": [
    {
     "data": {
      "text/html": [
       "<div>\n",
       "<style scoped>\n",
       "    .dataframe tbody tr th:only-of-type {\n",
       "        vertical-align: middle;\n",
       "    }\n",
       "\n",
       "    .dataframe tbody tr th {\n",
       "        vertical-align: top;\n",
       "    }\n",
       "\n",
       "    .dataframe thead th {\n",
       "        text-align: right;\n",
       "    }\n",
       "</style>\n",
       "<table border=\"1\" class=\"dataframe\">\n",
       "  <thead>\n",
       "    <tr style=\"text-align: right;\">\n",
       "      <th></th>\n",
       "      <th>Time</th>\n",
       "      <th>V1</th>\n",
       "      <th>V2</th>\n",
       "      <th>V3</th>\n",
       "      <th>V4</th>\n",
       "      <th>V5</th>\n",
       "      <th>V6</th>\n",
       "      <th>V7</th>\n",
       "      <th>V8</th>\n",
       "      <th>V9</th>\n",
       "      <th>...</th>\n",
       "      <th>V21</th>\n",
       "      <th>V22</th>\n",
       "      <th>V23</th>\n",
       "      <th>V24</th>\n",
       "      <th>V25</th>\n",
       "      <th>V26</th>\n",
       "      <th>V27</th>\n",
       "      <th>V28</th>\n",
       "      <th>Amount</th>\n",
       "      <th>Class</th>\n",
       "    </tr>\n",
       "  </thead>\n",
       "  <tbody>\n",
       "    <tr>\n",
       "      <th>0</th>\n",
       "      <td>0.0</td>\n",
       "      <td>-1.359807</td>\n",
       "      <td>-0.072781</td>\n",
       "      <td>2.536347</td>\n",
       "      <td>1.378155</td>\n",
       "      <td>-0.338321</td>\n",
       "      <td>0.462388</td>\n",
       "      <td>0.239599</td>\n",
       "      <td>0.098698</td>\n",
       "      <td>0.363787</td>\n",
       "      <td>...</td>\n",
       "      <td>-0.018307</td>\n",
       "      <td>0.277838</td>\n",
       "      <td>-0.110474</td>\n",
       "      <td>0.066928</td>\n",
       "      <td>0.128539</td>\n",
       "      <td>-0.189115</td>\n",
       "      <td>0.133558</td>\n",
       "      <td>-0.021053</td>\n",
       "      <td>149.62</td>\n",
       "      <td>0</td>\n",
       "    </tr>\n",
       "    <tr>\n",
       "      <th>1</th>\n",
       "      <td>0.0</td>\n",
       "      <td>1.191857</td>\n",
       "      <td>0.266151</td>\n",
       "      <td>0.166480</td>\n",
       "      <td>0.448154</td>\n",
       "      <td>0.060018</td>\n",
       "      <td>-0.082361</td>\n",
       "      <td>-0.078803</td>\n",
       "      <td>0.085102</td>\n",
       "      <td>-0.255425</td>\n",
       "      <td>...</td>\n",
       "      <td>-0.225775</td>\n",
       "      <td>-0.638672</td>\n",
       "      <td>0.101288</td>\n",
       "      <td>-0.339846</td>\n",
       "      <td>0.167170</td>\n",
       "      <td>0.125895</td>\n",
       "      <td>-0.008983</td>\n",
       "      <td>0.014724</td>\n",
       "      <td>2.69</td>\n",
       "      <td>0</td>\n",
       "    </tr>\n",
       "    <tr>\n",
       "      <th>2</th>\n",
       "      <td>1.0</td>\n",
       "      <td>-1.358354</td>\n",
       "      <td>-1.340163</td>\n",
       "      <td>1.773209</td>\n",
       "      <td>0.379780</td>\n",
       "      <td>-0.503198</td>\n",
       "      <td>1.800499</td>\n",
       "      <td>0.791461</td>\n",
       "      <td>0.247676</td>\n",
       "      <td>-1.514654</td>\n",
       "      <td>...</td>\n",
       "      <td>0.247998</td>\n",
       "      <td>0.771679</td>\n",
       "      <td>0.909412</td>\n",
       "      <td>-0.689281</td>\n",
       "      <td>-0.327642</td>\n",
       "      <td>-0.139097</td>\n",
       "      <td>-0.055353</td>\n",
       "      <td>-0.059752</td>\n",
       "      <td>378.66</td>\n",
       "      <td>0</td>\n",
       "    </tr>\n",
       "    <tr>\n",
       "      <th>3</th>\n",
       "      <td>1.0</td>\n",
       "      <td>-0.966272</td>\n",
       "      <td>-0.185226</td>\n",
       "      <td>1.792993</td>\n",
       "      <td>-0.863291</td>\n",
       "      <td>-0.010309</td>\n",
       "      <td>1.247203</td>\n",
       "      <td>0.237609</td>\n",
       "      <td>0.377436</td>\n",
       "      <td>-1.387024</td>\n",
       "      <td>...</td>\n",
       "      <td>-0.108300</td>\n",
       "      <td>0.005274</td>\n",
       "      <td>-0.190321</td>\n",
       "      <td>-1.175575</td>\n",
       "      <td>0.647376</td>\n",
       "      <td>-0.221929</td>\n",
       "      <td>0.062723</td>\n",
       "      <td>0.061458</td>\n",
       "      <td>123.50</td>\n",
       "      <td>0</td>\n",
       "    </tr>\n",
       "    <tr>\n",
       "      <th>4</th>\n",
       "      <td>2.0</td>\n",
       "      <td>-1.158233</td>\n",
       "      <td>0.877737</td>\n",
       "      <td>1.548718</td>\n",
       "      <td>0.403034</td>\n",
       "      <td>-0.407193</td>\n",
       "      <td>0.095921</td>\n",
       "      <td>0.592941</td>\n",
       "      <td>-0.270533</td>\n",
       "      <td>0.817739</td>\n",
       "      <td>...</td>\n",
       "      <td>-0.009431</td>\n",
       "      <td>0.798278</td>\n",
       "      <td>-0.137458</td>\n",
       "      <td>0.141267</td>\n",
       "      <td>-0.206010</td>\n",
       "      <td>0.502292</td>\n",
       "      <td>0.219422</td>\n",
       "      <td>0.215153</td>\n",
       "      <td>69.99</td>\n",
       "      <td>0</td>\n",
       "    </tr>\n",
       "  </tbody>\n",
       "</table>\n",
       "<p>5 rows × 31 columns</p>\n",
       "</div>"
      ],
      "text/plain": [
       "   Time        V1        V2        V3        V4        V5        V6        V7  \\\n",
       "0   0.0 -1.359807 -0.072781  2.536347  1.378155 -0.338321  0.462388  0.239599   \n",
       "1   0.0  1.191857  0.266151  0.166480  0.448154  0.060018 -0.082361 -0.078803   \n",
       "2   1.0 -1.358354 -1.340163  1.773209  0.379780 -0.503198  1.800499  0.791461   \n",
       "3   1.0 -0.966272 -0.185226  1.792993 -0.863291 -0.010309  1.247203  0.237609   \n",
       "4   2.0 -1.158233  0.877737  1.548718  0.403034 -0.407193  0.095921  0.592941   \n",
       "\n",
       "         V8        V9  ...       V21       V22       V23       V24       V25  \\\n",
       "0  0.098698  0.363787  ... -0.018307  0.277838 -0.110474  0.066928  0.128539   \n",
       "1  0.085102 -0.255425  ... -0.225775 -0.638672  0.101288 -0.339846  0.167170   \n",
       "2  0.247676 -1.514654  ...  0.247998  0.771679  0.909412 -0.689281 -0.327642   \n",
       "3  0.377436 -1.387024  ... -0.108300  0.005274 -0.190321 -1.175575  0.647376   \n",
       "4 -0.270533  0.817739  ... -0.009431  0.798278 -0.137458  0.141267 -0.206010   \n",
       "\n",
       "        V26       V27       V28  Amount  Class  \n",
       "0 -0.189115  0.133558 -0.021053  149.62      0  \n",
       "1  0.125895 -0.008983  0.014724    2.69      0  \n",
       "2 -0.139097 -0.055353 -0.059752  378.66      0  \n",
       "3 -0.221929  0.062723  0.061458  123.50      0  \n",
       "4  0.502292  0.219422  0.215153   69.99      0  \n",
       "\n",
       "[5 rows x 31 columns]"
      ]
     },
     "execution_count": 2,
     "metadata": {},
     "output_type": "execute_result"
    }
   ],
   "source": [
    "data = pd.read_csv(r'D:\\Data Science Project\\6-Credit card fraud detection using machine learning\\creditcard.csv')\n",
    "data.head()"
   ]
  },
  {
   "cell_type": "markdown",
   "id": "75448ab1",
   "metadata": {},
   "source": [
    "## Checking For Null Values"
   ]
  },
  {
   "cell_type": "code",
   "execution_count": 5,
   "id": "f21020dc",
   "metadata": {},
   "outputs": [
    {
     "data": {
      "text/plain": [
       "Time      0\n",
       "V1        0\n",
       "V2        0\n",
       "V3        0\n",
       "V4        0\n",
       "V5        0\n",
       "V6        0\n",
       "V7        0\n",
       "V8        0\n",
       "V9        0\n",
       "V10       0\n",
       "V11       0\n",
       "V12       0\n",
       "V13       0\n",
       "V14       0\n",
       "V15       0\n",
       "V16       0\n",
       "V17       0\n",
       "V18       0\n",
       "V19       0\n",
       "V20       0\n",
       "V21       0\n",
       "V22       0\n",
       "V23       0\n",
       "V24       0\n",
       "V25       0\n",
       "V26       0\n",
       "V27       0\n",
       "V28       0\n",
       "Amount    0\n",
       "Class     0\n",
       "dtype: int64"
      ]
     },
     "execution_count": 5,
     "metadata": {},
     "output_type": "execute_result"
    }
   ],
   "source": [
    "data.isnull().sum()"
   ]
  },
  {
   "cell_type": "markdown",
   "id": "1bfb65e0",
   "metadata": {},
   "source": [
    "## Checking for Values of Fraud and Legitimate Transactions"
   ]
  },
  {
   "cell_type": "code",
   "execution_count": 6,
   "id": "639fe056",
   "metadata": {},
   "outputs": [
    {
     "data": {
      "text/plain": [
       "0    284315\n",
       "1       492\n",
       "Name: Class, dtype: int64"
      ]
     },
     "execution_count": 6,
     "metadata": {},
     "output_type": "execute_result"
    }
   ],
   "source": [
    "data['Class'].value_counts()"
   ]
  },
  {
   "cell_type": "markdown",
   "id": "37272cc5",
   "metadata": {},
   "source": [
    "## Balancing The Data"
   ]
  },
  {
   "cell_type": "code",
   "execution_count": 7,
   "id": "95f424c8",
   "metadata": {},
   "outputs": [],
   "source": [
    "legit = data[data.Class == 0]\n",
    "fraud = data[data.Class == 1]"
   ]
  },
  {
   "cell_type": "code",
   "execution_count": 11,
   "id": "f78f008f",
   "metadata": {},
   "outputs": [
    {
     "data": {
      "text/plain": [
       "(492, 31)"
      ]
     },
     "execution_count": 11,
     "metadata": {},
     "output_type": "execute_result"
    }
   ],
   "source": [
    "\n",
    "fraud.shape"
   ]
  },
  {
   "cell_type": "code",
   "execution_count": 10,
   "id": "4430a525",
   "metadata": {},
   "outputs": [
    {
     "data": {
      "text/plain": [
       "(284315, 31)"
      ]
     },
     "execution_count": 10,
     "metadata": {},
     "output_type": "execute_result"
    }
   ],
   "source": [
    "legit.shape"
   ]
  },
  {
   "cell_type": "markdown",
   "id": "ba52e9fb",
   "metadata": {},
   "source": [
    "## Selecting Legitimate Transactions Equal To The Number Of Fraud Transactions"
   ]
  },
  {
   "cell_type": "code",
   "execution_count": 12,
   "id": "cdf685ee",
   "metadata": {},
   "outputs": [],
   "source": [
    "selected_legit = legit.sample(n = 492)"
   ]
  },
  {
   "cell_type": "markdown",
   "id": "9ff556a9",
   "metadata": {},
   "source": [
    "## Creating a New DataSet Containing Equal Numbers of Fraud and Legitimate Transactions"
   ]
  },
  {
   "cell_type": "code",
   "execution_count": 16,
   "id": "5235af58",
   "metadata": {},
   "outputs": [
    {
     "data": {
      "text/html": [
       "<div>\n",
       "<style scoped>\n",
       "    .dataframe tbody tr th:only-of-type {\n",
       "        vertical-align: middle;\n",
       "    }\n",
       "\n",
       "    .dataframe tbody tr th {\n",
       "        vertical-align: top;\n",
       "    }\n",
       "\n",
       "    .dataframe thead th {\n",
       "        text-align: right;\n",
       "    }\n",
       "</style>\n",
       "<table border=\"1\" class=\"dataframe\">\n",
       "  <thead>\n",
       "    <tr style=\"text-align: right;\">\n",
       "      <th></th>\n",
       "      <th>Time</th>\n",
       "      <th>V1</th>\n",
       "      <th>V2</th>\n",
       "      <th>V3</th>\n",
       "      <th>V4</th>\n",
       "      <th>V5</th>\n",
       "      <th>V6</th>\n",
       "      <th>V7</th>\n",
       "      <th>V8</th>\n",
       "      <th>V9</th>\n",
       "      <th>...</th>\n",
       "      <th>V21</th>\n",
       "      <th>V22</th>\n",
       "      <th>V23</th>\n",
       "      <th>V24</th>\n",
       "      <th>V25</th>\n",
       "      <th>V26</th>\n",
       "      <th>V27</th>\n",
       "      <th>V28</th>\n",
       "      <th>Amount</th>\n",
       "      <th>Class</th>\n",
       "    </tr>\n",
       "  </thead>\n",
       "  <tbody>\n",
       "    <tr>\n",
       "      <th>184880</th>\n",
       "      <td>126429.0</td>\n",
       "      <td>-0.636599</td>\n",
       "      <td>-0.161825</td>\n",
       "      <td>1.262736</td>\n",
       "      <td>-0.208703</td>\n",
       "      <td>-0.191234</td>\n",
       "      <td>-0.018388</td>\n",
       "      <td>-0.499851</td>\n",
       "      <td>0.203041</td>\n",
       "      <td>0.733885</td>\n",
       "      <td>...</td>\n",
       "      <td>0.261310</td>\n",
       "      <td>1.253427</td>\n",
       "      <td>0.494456</td>\n",
       "      <td>-0.319432</td>\n",
       "      <td>-1.077481</td>\n",
       "      <td>0.200785</td>\n",
       "      <td>-0.440511</td>\n",
       "      <td>-0.518319</td>\n",
       "      <td>1.44</td>\n",
       "      <td>0</td>\n",
       "    </tr>\n",
       "    <tr>\n",
       "      <th>262132</th>\n",
       "      <td>160330.0</td>\n",
       "      <td>-0.927115</td>\n",
       "      <td>1.096214</td>\n",
       "      <td>2.226498</td>\n",
       "      <td>0.684422</td>\n",
       "      <td>0.993432</td>\n",
       "      <td>0.724953</td>\n",
       "      <td>1.316999</td>\n",
       "      <td>-0.656265</td>\n",
       "      <td>0.992687</td>\n",
       "      <td>...</td>\n",
       "      <td>-0.826781</td>\n",
       "      <td>-1.236284</td>\n",
       "      <td>-0.298058</td>\n",
       "      <td>0.542229</td>\n",
       "      <td>0.417883</td>\n",
       "      <td>-0.925511</td>\n",
       "      <td>-0.223360</td>\n",
       "      <td>-0.587925</td>\n",
       "      <td>7.50</td>\n",
       "      <td>0</td>\n",
       "    </tr>\n",
       "    <tr>\n",
       "      <th>90494</th>\n",
       "      <td>63043.0</td>\n",
       "      <td>-0.418608</td>\n",
       "      <td>1.539661</td>\n",
       "      <td>0.132976</td>\n",
       "      <td>1.089442</td>\n",
       "      <td>-0.008913</td>\n",
       "      <td>1.424624</td>\n",
       "      <td>-2.082088</td>\n",
       "      <td>-5.188365</td>\n",
       "      <td>-1.320994</td>\n",
       "      <td>...</td>\n",
       "      <td>-2.563025</td>\n",
       "      <td>0.691536</td>\n",
       "      <td>-0.004554</td>\n",
       "      <td>-0.846635</td>\n",
       "      <td>0.754380</td>\n",
       "      <td>-0.222908</td>\n",
       "      <td>0.099188</td>\n",
       "      <td>0.271723</td>\n",
       "      <td>20.00</td>\n",
       "      <td>0</td>\n",
       "    </tr>\n",
       "    <tr>\n",
       "      <th>84127</th>\n",
       "      <td>60173.0</td>\n",
       "      <td>-0.731338</td>\n",
       "      <td>1.319592</td>\n",
       "      <td>0.709282</td>\n",
       "      <td>0.613087</td>\n",
       "      <td>0.492064</td>\n",
       "      <td>-0.262634</td>\n",
       "      <td>0.974543</td>\n",
       "      <td>-0.203101</td>\n",
       "      <td>-0.410587</td>\n",
       "      <td>...</td>\n",
       "      <td>0.026360</td>\n",
       "      <td>0.426480</td>\n",
       "      <td>-0.205303</td>\n",
       "      <td>-0.418659</td>\n",
       "      <td>0.019510</td>\n",
       "      <td>-0.271608</td>\n",
       "      <td>0.441336</td>\n",
       "      <td>0.267669</td>\n",
       "      <td>44.22</td>\n",
       "      <td>0</td>\n",
       "    </tr>\n",
       "    <tr>\n",
       "      <th>79708</th>\n",
       "      <td>58140.0</td>\n",
       "      <td>1.126267</td>\n",
       "      <td>-0.011699</td>\n",
       "      <td>1.424704</td>\n",
       "      <td>1.159870</td>\n",
       "      <td>-1.063605</td>\n",
       "      <td>-0.291183</td>\n",
       "      <td>-0.653446</td>\n",
       "      <td>0.041284</td>\n",
       "      <td>0.577919</td>\n",
       "      <td>...</td>\n",
       "      <td>0.274109</td>\n",
       "      <td>0.852862</td>\n",
       "      <td>-0.096812</td>\n",
       "      <td>0.430422</td>\n",
       "      <td>0.390492</td>\n",
       "      <td>-0.259660</td>\n",
       "      <td>0.078615</td>\n",
       "      <td>0.048827</td>\n",
       "      <td>27.50</td>\n",
       "      <td>0</td>\n",
       "    </tr>\n",
       "  </tbody>\n",
       "</table>\n",
       "<p>5 rows × 31 columns</p>\n",
       "</div>"
      ],
      "text/plain": [
       "            Time        V1        V2        V3        V4        V5        V6  \\\n",
       "184880  126429.0 -0.636599 -0.161825  1.262736 -0.208703 -0.191234 -0.018388   \n",
       "262132  160330.0 -0.927115  1.096214  2.226498  0.684422  0.993432  0.724953   \n",
       "90494    63043.0 -0.418608  1.539661  0.132976  1.089442 -0.008913  1.424624   \n",
       "84127    60173.0 -0.731338  1.319592  0.709282  0.613087  0.492064 -0.262634   \n",
       "79708    58140.0  1.126267 -0.011699  1.424704  1.159870 -1.063605 -0.291183   \n",
       "\n",
       "              V7        V8        V9  ...       V21       V22       V23  \\\n",
       "184880 -0.499851  0.203041  0.733885  ...  0.261310  1.253427  0.494456   \n",
       "262132  1.316999 -0.656265  0.992687  ... -0.826781 -1.236284 -0.298058   \n",
       "90494  -2.082088 -5.188365 -1.320994  ... -2.563025  0.691536 -0.004554   \n",
       "84127   0.974543 -0.203101 -0.410587  ...  0.026360  0.426480 -0.205303   \n",
       "79708  -0.653446  0.041284  0.577919  ...  0.274109  0.852862 -0.096812   \n",
       "\n",
       "             V24       V25       V26       V27       V28  Amount  Class  \n",
       "184880 -0.319432 -1.077481  0.200785 -0.440511 -0.518319    1.44      0  \n",
       "262132  0.542229  0.417883 -0.925511 -0.223360 -0.587925    7.50      0  \n",
       "90494  -0.846635  0.754380 -0.222908  0.099188  0.271723   20.00      0  \n",
       "84127  -0.418659  0.019510 -0.271608  0.441336  0.267669   44.22      0  \n",
       "79708   0.430422  0.390492 -0.259660  0.078615  0.048827   27.50      0  \n",
       "\n",
       "[5 rows x 31 columns]"
      ]
     },
     "execution_count": 16,
     "metadata": {},
     "output_type": "execute_result"
    }
   ],
   "source": [
    "new_data = pd.concat([selected_legit,fraud],axis = 0)\n",
    "new_data.head()"
   ]
  },
  {
   "cell_type": "markdown",
   "id": "06afdc5e",
   "metadata": {},
   "source": [
    "## Checking If Fraud and Legit are same in Numbers"
   ]
  },
  {
   "cell_type": "code",
   "execution_count": 17,
   "id": "9ab3637c",
   "metadata": {},
   "outputs": [
    {
     "data": {
      "text/plain": [
       "0    492\n",
       "1    492\n",
       "Name: Class, dtype: int64"
      ]
     },
     "execution_count": 17,
     "metadata": {},
     "output_type": "execute_result"
    }
   ],
   "source": [
    "new_data['Class'].value_counts()"
   ]
  },
  {
   "cell_type": "code",
   "execution_count": 18,
   "id": "637a2d9e",
   "metadata": {},
   "outputs": [],
   "source": [
    "X = new_data.drop(columns = 'Class',axis = 1)\n",
    "Y = new_data['Class']"
   ]
  },
  {
   "cell_type": "markdown",
   "id": "19ebebfa",
   "metadata": {},
   "source": [
    "## Training and Testing"
   ]
  },
  {
   "cell_type": "code",
   "execution_count": 19,
   "id": "00889b4a",
   "metadata": {},
   "outputs": [],
   "source": [
    "X_train,X_test,Y_train,Y_test = train_test_split(X,Y,test_size = 0.2,stratify = Y,random_state = 2)"
   ]
  },
  {
   "cell_type": "markdown",
   "id": "8f50405e",
   "metadata": {},
   "source": [
    "## Model The Data"
   ]
  },
  {
   "cell_type": "code",
   "execution_count": 20,
   "id": "7ca7c1d9",
   "metadata": {},
   "outputs": [
    {
     "data": {
      "text/plain": [
       "LogisticRegression()"
      ]
     },
     "execution_count": 20,
     "metadata": {},
     "output_type": "execute_result"
    }
   ],
   "source": [
    "model = LogisticRegression()\n",
    "model.fit(X_train,Y_train)"
   ]
  },
  {
   "cell_type": "markdown",
   "id": "f5fd88a5",
   "metadata": {},
   "source": [
    "## Evaluating The Model"
   ]
  },
  {
   "cell_type": "code",
   "execution_count": 21,
   "id": "7de502f9",
   "metadata": {},
   "outputs": [],
   "source": [
    "X_train_prediction = model.predict(X_train)"
   ]
  },
  {
   "cell_type": "markdown",
   "id": "d7421a3e",
   "metadata": {},
   "source": [
    "## Accuracy Of Training Data"
   ]
  },
  {
   "cell_type": "code",
   "execution_count": 22,
   "id": "c404cf3a",
   "metadata": {},
   "outputs": [
    {
     "data": {
      "text/plain": [
       "0.9453621346886912"
      ]
     },
     "execution_count": 22,
     "metadata": {},
     "output_type": "execute_result"
    }
   ],
   "source": [
    "train_data_accuracy = accuracy_score(X_train_prediction,Y_train)\n",
    "train_data_accuracy"
   ]
  },
  {
   "cell_type": "markdown",
   "id": "ca1bcda5",
   "metadata": {},
   "source": [
    "## Making Prediction"
   ]
  },
  {
   "cell_type": "code",
   "execution_count": 25,
   "id": "cf57ceb5",
   "metadata": {},
   "outputs": [
    {
     "data": {
      "text/plain": [
       "array([1, 0, 0, 0, 1, 0, 1, 1, 0, 1, 0, 1, 1, 0, 0, 1, 0, 1, 0, 0, 0, 0,\n",
       "       0, 1, 0, 1, 1, 0, 1, 1, 0, 1, 0, 1, 1, 0, 0, 0, 0, 1, 1, 0, 0, 1,\n",
       "       1, 1, 1, 1, 0, 0, 0, 0, 0, 0, 0, 0, 1, 1, 0, 0, 1, 1, 1, 1, 1, 0,\n",
       "       1, 0, 0, 1, 0, 0, 0, 0, 1, 1, 0, 1, 1, 1, 0, 1, 1, 1, 0, 0, 0, 0,\n",
       "       0, 0, 0, 1, 1, 1, 1, 1, 1, 1, 0, 1, 1, 1, 1, 0, 1, 0, 0, 0, 0, 0,\n",
       "       0, 0, 0, 0, 0, 1, 1, 0, 0, 0, 0, 0, 0, 0, 1, 0, 0, 1, 0, 1, 1, 1,\n",
       "       0, 1, 0, 1, 0, 1, 0, 1, 0, 0, 1, 1, 0, 0, 1, 0, 1, 0, 0, 1, 1, 1,\n",
       "       0, 0, 1, 1, 0, 0, 1, 1, 0, 1, 1, 0, 0, 1, 0, 1, 1, 0, 1, 1, 0, 1,\n",
       "       0, 0, 0, 0, 0, 1, 0, 0, 1, 0, 0, 0, 0, 0, 1, 1, 0, 1, 1, 1, 0],\n",
       "      dtype=int64)"
      ]
     },
     "execution_count": 25,
     "metadata": {},
     "output_type": "execute_result"
    }
   ],
   "source": [
    "X_test_prediction = model.predict(X_test)\n",
    "X_test_prediction"
   ]
  },
  {
   "cell_type": "markdown",
   "id": "e90980b9",
   "metadata": {},
   "source": [
    "## Accuracy Of Testing Data"
   ]
  },
  {
   "cell_type": "code",
   "execution_count": 26,
   "id": "ff038a10",
   "metadata": {},
   "outputs": [],
   "source": [
    "test_data_accuracy = accuracy_score(X_test_prediction,Y_test)"
   ]
  },
  {
   "cell_type": "code",
   "execution_count": 27,
   "id": "545ccdda",
   "metadata": {},
   "outputs": [
    {
     "data": {
      "text/plain": [
       "0.9289340101522843"
      ]
     },
     "execution_count": 27,
     "metadata": {},
     "output_type": "execute_result"
    }
   ],
   "source": [
    "test_data_accuracy"
   ]
  },
  {
   "cell_type": "code",
   "execution_count": null,
   "id": "e088d017",
   "metadata": {},
   "outputs": [],
   "source": []
  }
 ],
 "metadata": {
  "kernelspec": {
   "display_name": "Python 3",
   "language": "python",
   "name": "python3"
  },
  "language_info": {
   "codemirror_mode": {
    "name": "ipython",
    "version": 3
   },
   "file_extension": ".py",
   "mimetype": "text/x-python",
   "name": "python",
   "nbconvert_exporter": "python",
   "pygments_lexer": "ipython3",
   "version": "3.8.8"
  }
 },
 "nbformat": 4,
 "nbformat_minor": 5
}
